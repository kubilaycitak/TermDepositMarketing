{
 "cells": [
  {
   "cell_type": "code",
   "execution_count": null,
   "metadata": {},
   "outputs": [],
   "source": [
    "import numpy as np\n",
    "import pandas as pd\n",
    "from matplotlib import pyplot\n",
    "from sklearn.model_selection import KFold\n",
    "from sklearn.preprocessing import LabelEncoder\n",
    "from sklearn.preprocessing import MinMaxScaler\n",
    "from sklearn.ensemble import RandomForestClassifier\n",
    "from sklearn.ensemble import ExtraTreesClassifier\n",
    "\n",
    "\n",
    "# Ingoring warnings.\n",
    "import warnings\n",
    "warnings.filterwarnings('ignore')\n",
    "\n",
    "\n",
    "# Reading the data and printing first 5 rows.\n",
    "url = 'https://drive.google.com/file/d/1EW-XMnGfxn-qzGtGPa3v_C63Yqj2aGf7/view?usp=sharing'\n",
    "path = 'https://drive.google.com/uc?export=download&id='+url.split('/')[-2]\n",
    "df = pd.read_csv(path)\n",
    "df.head()"
   ]
  },
  {
   "cell_type": "code",
   "execution_count": null,
   "metadata": {},
   "outputs": [],
   "source": [
    "# Implementing encoder to turn all values into unique numeric values, to ensure that we do not get a data type error.\n",
    "le = LabelEncoder()\n",
    "\n",
    "\n",
    "# Using the encoder and creating the new encoded table.\n",
    "# Same values of a column in the original table get the same numeric values in new table.\n",
    "labeled = df.apply(le.fit_transform)\n",
    "\n",
    "\n",
    "# Seperating first 13 columns as features and the last column as the criteria output.\n",
    "X = labeled.iloc[:, 0:13]\n",
    "y = labeled.iloc[:, 13]\n",
    "\n",
    "\n",
    "# Applying MinMax scaling to normalize the data set, to ensure that all features have same effect on the final result.\n",
    "scaler = MinMaxScaler(feature_range=(0, 1))\n",
    "X = scaler.fit_transform(X)\n",
    "\n",
    "\n",
    "# Printing first 5 rows of the encoded table to show what it looks like.\n",
    "labeled.head()\n",
    "\n",
    "# In the first row of encoded table, the value of \"age\" column \"39\" does not represent the age \"39\".\n",
    "# It represents the encoded value of the age \"58\", which is the \"age\" value of the first row in the original table."
   ]
  },
  {
   "cell_type": "code",
   "execution_count": null,
   "metadata": {},
   "outputs": [],
   "source": [
    "# Creating an empty list to append the metric values later on.\n",
    "scores = []\n",
    "\n",
    "\n",
    "# Using Random Forest Classifier for the evaluation.\n",
    "rf = RandomForestClassifier()\n",
    "\n",
    "\n",
    "# Using 5-fold cross validation as told in the task explanation, which splits the data set into 5 folds.\n",
    "cv = KFold(n_splits=5, random_state=42, shuffle=False)\n",
    "\n",
    "\n",
    "# Printing train and test indexes which are specified just below.\n",
    "for train_index, test_index in cv.split(X):\n",
    "    print(\"Train Index: \", train_index)\n",
    "    print(\"Test Index: \", test_index, \"\\n\")\n",
    "    \n",
    "# Specifing the training and testing sets from the features to be used in each iteration and using them in the model.\n",
    "    X_train, X_test, y_train, y_test = X[train_index], X[test_index], y[train_index], y[test_index]\n",
    "    rf.fit(X_train, y_train)\n",
    "    scores.append(rf.score(X_test, y_test))"
   ]
  },
  {
   "cell_type": "code",
   "execution_count": null,
   "metadata": {},
   "outputs": [],
   "source": [
    "# Computing and appending the scores into the \"scores\" list.\n",
    "rf.fit(X_train, y_train)\n",
    "scores.append(rf.score(X_test, y_test))"
   ]
  },
  {
   "cell_type": "code",
   "execution_count": null,
   "metadata": {},
   "outputs": [],
   "source": [
    "# Getting the mean value of the \"scores\" list to get the overall accuracy of the model, and printing this value.\n",
    "print(np.mean(scores))"
   ]
  },
  {
   "cell_type": "code",
   "execution_count": null,
   "metadata": {},
   "outputs": [],
   "source": [
    "# BONUSES"
   ]
  },
  {
   "cell_type": "code",
   "execution_count": null,
   "metadata": {},
   "outputs": [],
   "source": [
    "# Creating a new table with the customers who subscribed to a term deposit.\n",
    "customers = df.loc[df['y'] == \"yes\"]\n",
    "\n",
    "\n",
    "# Printing the most popular values of the columns.\n",
    "for i in customers.columns:\n",
    "    print(\"Most popular\", i, \"of subscribers and their count: \" , customers[i].value_counts().head(1),'\\n')\n",
    "\n",
    "    \n",
    "# The client could prioritize these customer segments since they are the most popular subscriber features."
   ]
  },
  {
   "cell_type": "code",
   "execution_count": null,
   "metadata": {},
   "outputs": [],
   "source": [
    "# Getting importance values.\n",
    "importance = rf.feature_importances_\n",
    "\n",
    "\n",
    "# Printing importance of every feature.\n",
    "for i,v in enumerate(importance):\n",
    "    print('Feature(Column) %0d: Score: %.5f' % (i,v))\n",
    "    \n",
    "    \n",
    "# Plotting the feature importance.\n",
    "pyplot.bar([x for x in range(len(importance))], importance)\n",
    "pyplot.show()\n",
    "\n",
    "\n",
    "# Here we can see that feature 11(duration) has the greatest importance, so this feature could be focused on more than others."
   ]
  },
  {
   "cell_type": "code",
   "execution_count": null,
   "metadata": {},
   "outputs": [],
   "source": []
  }
 ],
 "metadata": {
  "kernelspec": {
   "display_name": "Python 3",
   "language": "python",
   "name": "python3"
  },
  "language_info": {
   "codemirror_mode": {
    "name": "ipython",
    "version": 3
   },
   "file_extension": ".py",
   "mimetype": "text/x-python",
   "name": "python",
   "nbconvert_exporter": "python",
   "pygments_lexer": "ipython3",
   "version": "3.6.9"
  }
 },
 "nbformat": 4,
 "nbformat_minor": 2
}
